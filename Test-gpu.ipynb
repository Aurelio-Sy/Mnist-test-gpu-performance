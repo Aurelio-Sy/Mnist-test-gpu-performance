{
 "cells": [
  {
   "cell_type": "code",
   "execution_count": 1,
   "metadata": {
    "collapsed": true
   },
   "outputs": [],
   "source": [
    "import gzip\n",
    "import pickle\n",
    "import random\n",
    "import numpy as np\n",
    "import tensorflow as tf"
   ]
  },
  {
   "cell_type": "code",
   "execution_count": 2,
   "metadata": {
    "collapsed": true
   },
   "outputs": [],
   "source": [
    "def load_data():\n",
    "    f = gzip.open('mnist.pkl.gz','rb')\n",
    "    x,y,z = pickle.load(f,encoding='iso-8859-1')\n",
    "    print(\"x = \",len(x))\n",
    "    print(x)\n",
    "    return (x,y,z)"
   ]
  },
  {
   "cell_type": "code",
   "execution_count": 3,
   "metadata": {
    "collapsed": true
   },
   "outputs": [],
   "source": [
    "def vectorized_result(y):\n",
    "    e = np.zeros((10,1))\n",
    "    e[y]=1.0\n",
    "    return e"
   ]
  },
  {
   "cell_type": "code",
   "execution_count": 4,
   "metadata": {
    "scrolled": true
   },
   "outputs": [
    {
     "name": "stdout",
     "output_type": "stream",
     "text": [
      "x =  2\n",
      "(array([[ 0.,  0.,  0., ...,  0.,  0.,  0.],\n",
      "       [ 0.,  0.,  0., ...,  0.,  0.,  0.],\n",
      "       [ 0.,  0.,  0., ...,  0.,  0.,  0.],\n",
      "       ..., \n",
      "       [ 0.,  0.,  0., ...,  0.,  0.,  0.],\n",
      "       [ 0.,  0.,  0., ...,  0.,  0.,  0.],\n",
      "       [ 0.,  0.,  0., ...,  0.,  0.,  0.]], dtype=float32), array([5, 0, 4, ..., 8, 4, 8]))\n"
     ]
    }
   ],
   "source": [
    "tr_d,va_d,te_d = load_data()"
   ]
  },
  {
   "cell_type": "code",
   "execution_count": 5,
   "metadata": {
    "collapsed": true
   },
   "outputs": [],
   "source": [
    "trainning_inputs = [np.reshape(x,(784,1)) for x in tr_d[0]]\n",
    "training_results = [vectorized_result(y) for y in tr_d[1]]\n",
    "training_data = [(x,y) for x,y in zip(trainning_inputs,training_results)]\n",
    "validation_inputs = [np.reshape(x,(784,1)) for x in va_d[0]]\n",
    "validation_results = [vectorized_result(y) for y in va_d[1]]\n",
    "test_inputs = [np.reshape(x,(784,1)) for x in te_d[0]]\n",
    "test_results = [vectorized_result(y) for y in te_d[1]]"
   ]
  },
  {
   "cell_type": "code",
   "execution_count": 6,
   "metadata": {
    "collapsed": true
   },
   "outputs": [],
   "source": [
    "X_train = np.squeeze(np.array(trainning_inputs))\n",
    "Y_train = np.squeeze(np.array(training_results))\n",
    "X_validation = np.squeeze(np.array(validation_inputs))\n",
    "Y_validation = np.squeeze(np.array(validation_results))\n",
    "X_test = np.squeeze(np.array(test_inputs))\n",
    "Y_test = np.squeeze(np.array(test_results))"
   ]
  },
  {
   "cell_type": "code",
   "execution_count": 7,
   "metadata": {
    "scrolled": false
   },
   "outputs": [
    {
     "name": "stdout",
     "output_type": "stream",
     "text": [
      "(50000, 784) (50000, 10)\n",
      "(10000, 784) (10000, 10)\n",
      "(10000, 784) (10000, 10)\n",
      "<class 'numpy.ndarray'> <class 'numpy.ndarray'>\n"
     ]
    }
   ],
   "source": [
    "print(X_train.shape, Y_train.shape)\n",
    "print(X_validation.shape, Y_validation.shape)\n",
    "print(X_test.shape, Y_test.shape)\n",
    "print(type(X_train), type(Y_train))"
   ]
  },
  {
   "cell_type": "code",
   "execution_count": 8,
   "metadata": {
    "collapsed": true
   },
   "outputs": [],
   "source": [
    "def create_placeholder(n_x, n_y):\n",
    "    X = tf.placeholder(tf.float32, [None, n_x])\n",
    "    Y = tf.placeholder(tf.float32, [None, n_y])\n",
    "    \n",
    "    return X, Y"
   ]
  },
  {
   "cell_type": "code",
   "execution_count": 9,
   "metadata": {
    "collapsed": true
   },
   "outputs": [],
   "source": [
    "def initialize_parameters():\n",
    "    \n",
    "    W1 = tf.get_variable(\"W1\", [784, 512], initializer = tf.contrib.layers.xavier_initializer())\n",
    "    b1 = tf.get_variable(\"b1\", [1, 512], initializer = tf.zeros_initializer())\n",
    "    W2 = tf.get_variable(\"W2\", [512, 28], initializer = tf.contrib.layers.xavier_initializer())\n",
    "    b2 = tf.get_variable(\"b2\", [1, 28], initializer = tf.zeros_initializer())\n",
    "    W3 = tf.get_variable(\"W3\", [28, 10], initializer = tf.contrib.layers.xavier_initializer())\n",
    "    b3 = tf.get_variable(\"b3\", [1, 10], initializer = tf.zeros_initializer())\n",
    "    \n",
    "    parameters = {\"W1\" : W1, \n",
    "                  \"b1\" : b1,\n",
    "                  \"W2\" : W2, \n",
    "                  \"b2\" : b2, \n",
    "                  \"W3\" : W3, \n",
    "                  \"b3\" : b3}\n",
    "    return parameters"
   ]
  },
  {
   "cell_type": "code",
   "execution_count": 10,
   "metadata": {
    "collapsed": true
   },
   "outputs": [],
   "source": [
    "def forward_propagation(X, parameters):\n",
    "    \n",
    "    W1 = parameters['W1']\n",
    "    b1 = parameters['b1']\n",
    "    W2 = parameters['W2']\n",
    "    b2 = parameters['b2']\n",
    "    W3 = parameters['W3']\n",
    "    b3 = parameters['b3']\n",
    "    \n",
    "    Z1 = tf.add(tf.matmul(X, W1), b1)\n",
    "    A1 = tf.nn.sigmoid(Z1)\n",
    "    Z2 = tf.add(tf.matmul(A1, W2), b2)\n",
    "    A2 = tf.nn.sigmoid(Z2)\n",
    "    Z3 = tf.add(tf.matmul(A2, W3), b3)\n",
    "    A3 = tf.nn.sigmoid(Z3)\n",
    "    \n",
    "    return A3"
   ]
  },
  {
   "cell_type": "code",
   "execution_count": 11,
   "metadata": {
    "collapsed": true
   },
   "outputs": [],
   "source": [
    "def compute_cost(A3, Y):\n",
    "    \n",
    "    #logits = tf.transpose(A3)\n",
    "    #labels = tf.transpose(Y)\n",
    "    cost = tf.reduce_mean(tf.nn.softmax_cross_entropy_with_logits(logits = A3, labels = Y))\n",
    "\n",
    "    return cost"
   ]
  },
  {
   "cell_type": "code",
   "execution_count": 12,
   "metadata": {
    "collapsed": true
   },
   "outputs": [],
   "source": [
    "import math\n",
    "\n",
    "def random_mini_batches(X, Y, mini_batch_size = 64,seed=0):\n",
    "    \n",
    "    m = X_train.shape[0]\n",
    "    mini_batches = []\n",
    "    np.random.seed(seed)\n",
    "    \n",
    "    permutation = list(np.random.permutation(m))\n",
    "    shuffled_X = X[permutation,: ]\n",
    "    shuffled_Y = Y[permutation,: ]\n",
    "    \n",
    "    num_complete_minibatches = math.floor(m / mini_batch_size)\n",
    "    \n",
    "    for k in range(0, num_complete_minibatches):\n",
    "        mini_batch_X = shuffled_X[k*mini_batch_size : k*mini_batch_size + mini_batch_size,:]\n",
    "        mini_batch_Y = shuffled_Y[k*mini_batch_size : k*mini_batch_size + mini_batch_size,:]\n",
    "        mini_batch = (mini_batch_X, mini_batch_Y)\n",
    "        mini_batches.append(mini_batch)\n",
    "        \n",
    "    if m % mini_batch_size != 0:\n",
    "        mini_batch_X = shuffled_X[num_complete_minibatches*mini_batch_size : m,:]\n",
    "        mini_batch_Y = shuffled_Y[num_complete_minibatches*mini_batch_size : m,:]\n",
    "        mini_batch = (mini_batch_X, mini_batch_Y)\n",
    "        mini_batches.append(mini_batch)\n",
    "        \n",
    "    return mini_batches"
   ]
  },
  {
   "cell_type": "code",
   "execution_count": 13,
   "metadata": {
    "collapsed": true
   },
   "outputs": [],
   "source": [
    "import matplotlib.pyplot as plt\n",
    "import time\n",
    "\n",
    "%matplotlib inline\n",
    "\n",
    "def model(X_train, Y_train, X_test, Y_test, \n",
    "          learning_rate=0.1, num_epochs=15, minibatch_size=100, print_cost=True):\n",
    "    \n",
    "    tf.reset_default_graph()\n",
    "    tf.set_random_seed(1)\n",
    "    seed = 3\n",
    "    (m, n_x) = X_train.shape\n",
    "    n_y = Y_train.shape[1]\n",
    "    costs = []\n",
    "    \n",
    "    X, Y = create_placeholder(n_x, n_y)\n",
    "    parameters = initialize_parameters()\n",
    "    \n",
    "    A3 = forward_propagation(X, parameters)\n",
    "    cost = compute_cost(A3, Y)\n",
    "    optimizer = tf.train.GradientDescentOptimizer(learning_rate = learning_rate).minimize(cost)\n",
    "    \n",
    "    with tf.Session() as sess:\n",
    "        \n",
    "        init = tf.global_variables_initializer()\n",
    "        sess.run(init)\n",
    "        \n",
    "        start = time.time()\n",
    "        \n",
    "        for epoch in range(num_epochs):\n",
    "            \n",
    "            start_time = time.time()\n",
    "            epoch_cost = 0.\n",
    "            num_minibatches = int(m/minibatch_size)\n",
    "            #print(\"num_minibatches:\"+str(num_minibatches))\n",
    "            seed = seed+1\n",
    "            mini_batches = random_mini_batches(X_train, Y_train, minibatch_size, seed)\n",
    "\n",
    "            for minibatch in mini_batches:\n",
    "                \n",
    "                (minibatch_X, minibatch_Y) = minibatch\n",
    "                \n",
    "                _ , minibatch_cost = sess.run([optimizer, cost], feed_dict = {X : minibatch_X, Y : minibatch_Y})\n",
    "\n",
    "                epoch_cost += minibatch_cost/num_minibatches\n",
    "            \n",
    "            if print_cost == True and epoch % 1 == 0:\n",
    "                print(\"Cost after epochs %i: %f\" % (epoch, epoch_cost))\n",
    "            if print_cost == True and epoch % 5 == 0:\n",
    "                costs.append(epoch_cost)\n",
    "        end = time.time() - start\n",
    "        print(\"total epoch time cost:\"+str(end))\n",
    "\n",
    "        plt.plot(np.squeeze(costs))\n",
    "        plt.xlabel('iterations(per tens)')\n",
    "        plt.ylabel('cost')\n",
    "        plt.title(\"learning rate=\"+str(learning_rate))\n",
    "        \n",
    "        parameters = sess.run(parameters)\n",
    "        print(\"parameters have been trained\")\n",
    "        \n",
    "        correct_prediction = tf.equal(tf.argmax(A3, 1), tf.argmax(Y, 1))\n",
    "        accuracy = tf.reduce_mean(tf.cast(correct_prediction, \"float\"))\n",
    "                      \n",
    "        print(\"Train accuracy:\", accuracy.eval({X : X_train, Y : Y_train}))\n",
    "        print(\"Test accuracy:\", accuracy.eval({X : X_test, Y : Y_test}))\n",
    "        \n",
    "        return parameters"
   ]
  },
  {
   "cell_type": "code",
   "execution_count": 14,
   "metadata": {},
   "outputs": [
    {
     "name": "stdout",
     "output_type": "stream",
     "text": [
      "Cost after epochs 0: 2.281525\n",
      "Cost after epochs 1: 2.196885\n",
      "Cost after epochs 2: 2.046253\n",
      "Cost after epochs 3: 1.919040\n",
      "Cost after epochs 4: 1.848150\n",
      "Cost after epochs 5: 1.802950\n",
      "Cost after epochs 6: 1.769295\n",
      "Cost after epochs 7: 1.742144\n",
      "Cost after epochs 8: 1.719818\n",
      "Cost after epochs 9: 1.701517\n",
      "Cost after epochs 10: 1.686477\n",
      "Cost after epochs 11: 1.673961\n",
      "Cost after epochs 12: 1.663358\n",
      "Cost after epochs 13: 1.654315\n",
      "Cost after epochs 14: 1.646542\n",
      "total epoch time cost:14.606969118118286\n",
      "parameters have been trained\n",
      "Train accuracy: 0.8609\n",
      "Test accuracy: 0.8662\n"
     ]
    },
    {
     "data": {
      "image/png": "[encoded data removed]",
      "text/plain": [
       "<matplotlib.figure.Figure at 0x7f0c1a25ab70>"
      ]
     },
     "metadata": {},
     "output_type": "display_data"
    }
   ],
   "source": [
    "parameteres = model(X_train, Y_train, X_test, Y_test)"
   ]
  },
  {
   "cell_type": "code",
   "execution_count": null,
   "metadata": {
    "collapsed": true
   },
   "outputs": [],
   "source": []
  }
 ],
 "metadata": {
  "kernelspec": {
   "display_name": "Python 3",
   "language": "python",
   "name": "python3"
  },
  "language_info": {
   "codemirror_mode": {
    "name": "ipython",
    "version": 3
   },
   "file_extension": ".py",
   "mimetype": "text/x-python",
   "name": "python",
   "nbconvert_exporter": "python",
   "pygments_lexer": "ipython3",
   "version": "3.6.5"
  }
 },
 "nbformat": 4,
 "nbformat_minor": 2
}
